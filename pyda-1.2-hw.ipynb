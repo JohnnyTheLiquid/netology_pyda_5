{
 "cells": [
  {
   "cell_type": "markdown",
   "metadata": {},
   "source": [
    "## Задание 1"
   ]
  },
  {
   "cell_type": "markdown",
   "metadata": {},
   "source": [
    "Дан список с визитами по городам и странам. \n",
    "Напишите код, который возвращает отфильтрованный список geo_logs, содержащий только визиты из России."
   ]
  },
  {
   "cell_type": "code",
   "execution_count": 3,
   "metadata": {},
   "outputs": [],
   "source": [
    "geo_logs = [\n",
    "    {'visit1': ['Москва', 'Россия']},\n",
    "    {'visit2': ['Дели', 'Индия']},\n",
    "    {'visit3': ['Владимир', 'Россия']},\n",
    "    {'visit4': ['Лиссабон', 'Португалия']},\n",
    "    {'visit5': ['Париж', 'Франция']},\n",
    "    {'visit6': ['Лиссабон', 'Португалия']},\n",
    "    {'visit7': ['Тула', 'Россия']},\n",
    "    {'visit8': ['Тула', 'Россия']},\n",
    "    {'visit9': ['Курск', 'Россия']},\n",
    "    {'visit10': ['Архангельск', 'Россия']}\n",
    "]"
   ]
  },
  {
   "cell_type": "markdown",
   "metadata": {},
   "source": [
    "Задание 1. Решение:"
   ]
  },
  {
   "cell_type": "code",
   "execution_count": 4,
   "metadata": {},
   "outputs": [
    {
     "name": "stdout",
     "output_type": "stream",
     "text": [
      "[{'visit1': ['Москва', 'Россия']}, {'visit3': ['Владимир', 'Россия']}, {'visit7': ['Тула', 'Россия']}, {'visit8': ['Тула', 'Россия']}, {'visit9': ['Курск', 'Россия']}]\n"
     ]
    }
   ],
   "source": [
    "i=0\n",
    "geo_logs_new=[]\n",
    "for i in range(len(geo_logs)-1):\n",
    "    if list(geo_logs[i].values())[0][1] == 'Россия':\n",
    "        geo_logs_new.append(geo_logs[i])\n",
    "    i+=1\n",
    "\n",
    "print(geo_logs_new)"
   ]
  },
  {
   "cell_type": "markdown",
   "metadata": {},
   "source": [
    "## Задание 2"
   ]
  },
  {
   "cell_type": "markdown",
   "metadata": {},
   "source": [
    "Выведите на экран все уникальные гео-ID из значений словаря ids. Т. е. список вида [213, 15, 54, 119, 98, 35]"
   ]
  },
  {
   "cell_type": "code",
   "execution_count": 1,
   "metadata": {},
   "outputs": [],
   "source": [
    "ids = {'user1': [213, 213, 213, 15, 213], \n",
    "       'user2': [54, 54, 119, 119, 119], \n",
    "       'user3': [213, 98, 98, 35]}"
   ]
  },
  {
   "cell_type": "markdown",
   "metadata": {},
   "source": [
    "Задание 2. Решение:"
   ]
  },
  {
   "cell_type": "code",
   "execution_count": 2,
   "metadata": {},
   "outputs": [
    {
     "name": "stdout",
     "output_type": "stream",
     "text": [
      "[213, 15, 54, 119, 98, 35]\n"
     ]
    }
   ],
   "source": [
    "val=list(ids.values())\n",
    "f,s,t=val\n",
    "val_all=f+s+t\n",
    "\n",
    "i=0\n",
    "val_uniq=[]\n",
    "for i in range(len(val_all)):\n",
    "    if val_all[i] not in val_uniq:\n",
    "        val_uniq.append(val_all[i])\n",
    "print(val_uniq)"
   ]
  },
  {
   "cell_type": "markdown",
   "metadata": {},
   "source": [
    "## Задание 3"
   ]
  },
  {
   "cell_type": "markdown",
   "metadata": {},
   "source": [
    "Дан список поисковых запросов. Получить распределение количества слов в них. \n",
    "Т. е. поисковых запросов из одного - слова 5%, из двух - 7%, из трех - 3% и т.д."
   ]
  },
  {
   "cell_type": "code",
   "execution_count": 7,
   "metadata": {},
   "outputs": [],
   "source": [
    "queries = [\n",
    "    'смотреть сериалы онлайн',\n",
    "    'новости спорта',\n",
    "    'афиша кино',\n",
    "    'курс доллара',\n",
    "    'сериалы этим летом',\n",
    "    'курс по питону',\n",
    "    'сериалы про спорт',\n",
    "]"
   ]
  },
  {
   "cell_type": "markdown",
   "metadata": {},
   "source": [
    "Задание 3. Решение. Поскольку распознавать семантику мы еще не умеем, словом ситаем то, что разделено пробелом/ами, соответственно, если в фразе 2 пробела, то 3 слова. Для удобства и наглядности разделяем решение на части с помощью функций:"
   ]
  },
  {
   "cell_type": "code",
   "execution_count": 2,
   "metadata": {},
   "outputs": [
    {
     "name": "stdout",
     "output_type": "stream",
     "text": [
      "запросы в 1 слово:  0.0 %\n",
      "запросы в 2 слово:  16.67 %\n",
      "запросы в 3 слово:  22.22 %\n"
     ]
    }
   ],
   "source": [
    "def count_words(a):\n",
    "  i=0\n",
    "  j=0\n",
    "  for i in range(len(a)):\n",
    "    if a[i]==\" \":\n",
    "      j += 1\n",
    "      i += 1\n",
    "  return j + 1\n",
    "\n",
    "\n",
    "def repl_wrd_count(xs):\n",
    "  t=0\n",
    "  m=0\n",
    "  for t in range(len(xs)):\n",
    "    m=count_words(xs[t])\n",
    "    xs[t] = m\n",
    "    t += 1\n",
    "  return xs\n",
    "\n",
    "\n",
    "def sum_wrds(xs):\n",
    "  t=0\n",
    "  m=0\n",
    "  sum_w=0\n",
    "  for t in range(len(xs)):\n",
    "    sum_w += xs[t]\n",
    "    t += 1\n",
    "  return sum_w\n",
    "\n",
    "\n",
    "def max_elem(xs):\n",
    "  m=0\n",
    "  j=0\n",
    "  while j < len(queries_new):\n",
    "    if queries_new[j]>m:\n",
    "      m=queries_new[j]\n",
    "    j += 1\n",
    "  return m\n",
    "\n",
    "\n",
    "queries = [\n",
    "    'смотреть сериалы онлайн',\n",
    "    'новости спорта',\n",
    "    'афиша кино',\n",
    "    'курс доллара',\n",
    "    'сериалы этим летом',\n",
    "    'курс по питону',\n",
    "    'сериалы про спорт',\n",
    "]\n",
    "\n",
    "queries_new=repl_wrd_count(queries)\n",
    "\n",
    "for j in range(max_elem(queries_new)):\n",
    "    print(\"запросы в\",j+1, \"слово: \",\n",
    "    round(100 * queries_new.count(j + 1) / sum_wrds(queries_new),2),\"%\"\n",
    "    )\n",
    "    j += 1"
   ]
  },
  {
   "cell_type": "markdown",
   "metadata": {},
   "source": [
    "## Задание 4"
   ]
  },
  {
   "cell_type": "markdown",
   "metadata": {},
   "source": [
    "Дана статистика рекламных каналов по объемам продаж. Напишите скрипт, который возвращает название канала с максимальным объемом.\n",
    "Т. е. в данном примере скрипт должен возвращать 'yandex'."
   ]
  },
  {
   "cell_type": "code",
   "execution_count": 9,
   "metadata": {},
   "outputs": [],
   "source": [
    "stats = {'facebook': 55, 'yandex': 120, 'vk': 115, 'google': 99, 'email': 42, 'ok': 98}"
   ]
  },
  {
   "cell_type": "markdown",
   "metadata": {},
   "source": [
    "Задание 4. Решение:"
   ]
  },
  {
   "cell_type": "code",
   "execution_count": 16,
   "metadata": {},
   "outputs": [
    {
     "name": "stdout",
     "output_type": "stream",
     "text": [
      "yandex\n"
     ]
    }
   ],
   "source": [
    "key=list(stats.keys())\n",
    "value=list(stats.values())\n",
    "i=0\n",
    "for i in range(len(stats)):\n",
    "    if value[i]==max(value):\n",
    "        print(key[i])\n",
    "    continue"
   ]
  },
  {
   "cell_type": "markdown",
   "metadata": {},
   "source": [
    "## Задание 5"
   ]
  },
  {
   "cell_type": "markdown",
   "metadata": {},
   "source": [
    "Дан поток логов по количеству просмотренных страниц для каждого пользователя. Список отсортирован по ID пользователя. Вам необходимо написать алгоритм, который считает среднее значение просмотров на пользователя. \n",
    "Т. е. надо посчитать отношение суммы всех просмотров к количеству уникальных пользователей."
   ]
  },
  {
   "cell_type": "code",
   "execution_count": 4,
   "metadata": {},
   "outputs": [],
   "source": [
    "stream = [\n",
    "    '2018-01-01,user1,3',\n",
    "    '2018-01-07,user1,4',\n",
    "    '2018-03-29,user1,1',\n",
    "    '2018-04-04,user1,13',\n",
    "    '2018-01-05,user2,7',\n",
    "    '2018-06-14,user3,4',\n",
    "    '2018-07-02,user3,10',\n",
    "    '2018-03-21,user4,19',\n",
    "    '2018-03-22,user4,4',\n",
    "    '2018-04-22,user4,8',\n",
    "    '2018-05-03,user4,9',\n",
    "    '2018-05-11,user4,11',\n",
    "]"
   ]
  },
  {
   "cell_type": "markdown",
   "metadata": {},
   "source": [
    "Задание 5. Решение, для удобства и наглядности разделяем ход вычислений при помощи функций:"
   ]
  },
  {
   "cell_type": "code",
   "execution_count": 5,
   "metadata": {},
   "outputs": [
    {
     "name": "stdout",
     "output_type": "stream",
     "text": [
      "среднее значение просмотров на 1 пользователя:  0.0323\n"
     ]
    }
   ],
   "source": [
    "def user_list(xs):\n",
    "    m=[]\n",
    "    for i in range (len(xs)):\n",
    "        m.append(xs[i][11:16])\n",
    "        i += 1\n",
    "    return m\n",
    "\n",
    "def unique_user(xs):\n",
    "    n=[]\n",
    "    for i in range (len(xs)-1):\n",
    "        if xs[i] != xs[i+1]:\n",
    "            n.append(xs[i])\n",
    "        else:\n",
    "            continue\n",
    "        i += 1\n",
    "    return n\n",
    "\n",
    "def watch_list(xs):\n",
    "    m=[]\n",
    "    for i in range (len(xs)):\n",
    "        m.append(xs[i][17:])\n",
    "        i += 1\n",
    "    return m\n",
    "\n",
    "def watch_count(xs):\n",
    "    h=0\n",
    "    for i in range (len(xs)):\n",
    "        h += int(xs[i])\n",
    "        i += 1\n",
    "    return h\n",
    "\n",
    "print ( \"среднее значение просмотров на 1 пользователя: \",\n",
    "round( len(unique_user(user_list(stream)))\n",
    "/ watch_count(watch_list(stream)),4)\n",
    ")"
   ]
  },
  {
   "cell_type": "markdown",
   "metadata": {},
   "source": [
    "## Задание 6"
   ]
  },
  {
   "cell_type": "markdown",
   "metadata": {},
   "source": [
    "Дана статистика рекламных кампаний по дням. Напишите алгоритм, который по паре дата-кампания ищет значение численного столбца. \n",
    "Т. е. для даты '2018-01-01' и 'google' нужно получить число 25. \n",
    "Считайте, что все комбинации дата-кампания уникальны."
   ]
  },
  {
   "cell_type": "code",
   "execution_count": 7,
   "metadata": {},
   "outputs": [],
   "source": [
    "stats = [\n",
    "    ['2018-01-01', 'google', 25],\n",
    "    ['2018-01-01', 'yandex', 65],\n",
    "    ['2018-01-01', 'market', 89],\n",
    "    ['2018-01-02', 'google', 574],\n",
    "    ['2018-01-02', 'yandex', 249],\n",
    "    ['2018-01-02', 'market', 994],\n",
    "    ['2018-01-03', 'google', 1843],\n",
    "    ['2018-01-03', 'yandex', 1327],\n",
    "    ['2018-01-03', 'market', 1764],\n",
    "]"
   ]
  },
  {
   "cell_type": "markdown",
   "metadata": {},
   "source": [
    "Задание 6. Решение:"
   ]
  },
  {
   "cell_type": "code",
   "execution_count": 8,
   "metadata": {},
   "outputs": [
    {
     "name": "stdout",
     "output_type": "stream",
     "text": [
      "Введите дату в формате '2018-01-01' 2018-01-01\n",
      "Введите кампанию, наприме 'market' google\n",
      "25\n"
     ]
    }
   ],
   "source": [
    "d= input (\"Введите дату в формате '2018-01-01' \")\n",
    "m= input (\"Введите кампанию, наприме 'market' \")\n",
    "\n",
    "i=0\n",
    "r=0\n",
    "for i in range( len(stats)):\n",
    "    if stats[i][0]==d and stats[i][1]==m:\n",
    "        r=stats[i][2]\n",
    "    i+=1\n",
    "print(r)"
   ]
  }
 ],
 "metadata": {
  "kernelspec": {
   "display_name": "Python 3",
   "language": "python",
   "name": "python3"
  },
  "language_info": {
   "codemirror_mode": {
    "name": "ipython",
    "version": 3
   },
   "file_extension": ".py",
   "mimetype": "text/x-python",
   "name": "python",
   "nbconvert_exporter": "python",
   "pygments_lexer": "ipython3",
   "version": "3.7.3"
  }
 },
 "nbformat": 4,
 "nbformat_minor": 2
}
