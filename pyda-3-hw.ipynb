{
 "cells": [
  {
   "cell_type": "markdown",
   "metadata": {},
   "source": [
    "## Задание 1"
   ]
  },
  {
   "cell_type": "markdown",
   "metadata": {},
   "source": [
    "Дан список вида:"
   ]
  },
  {
   "cell_type": "code",
   "execution_count": 1,
   "metadata": {},
   "outputs": [],
   "source": [
    "data = [\n",
    "    [13, 25, 23, 34],\n",
    "    [45, 32, 44, 47],\n",
    "    [12, 33, 23, 95],\n",
    "    [13, 53, 34, 35]\n",
    "]"
   ]
  },
  {
   "cell_type": "markdown",
   "metadata": {},
   "source": [
    "Напишите функцию, которая возвращает сумму элементов на диагонали. Т. е. 13+32+23+35."
   ]
  },
  {
   "cell_type": "markdown",
   "metadata": {},
   "source": [
    "Задание 1. Решение, два варианта, итерацией по списку и по индексам:"
   ]
  },
  {
   "cell_type": "code",
   "execution_count": 2,
   "metadata": {},
   "outputs": [
    {
     "name": "stdout",
     "output_type": "stream",
     "text": [
      "103\n"
     ]
    }
   ],
   "source": [
    "def diagonal_adding1(xs):\n",
    "    \"\"\"Calculates main diagonal of square matrix using list iteration\"\"\"\n",
    "    i=0\n",
    "    j=0\n",
    "    output=0\n",
    "    for xxs in xs:\n",
    "        if i==j:\n",
    "            output += xs[i][j]\n",
    "            i += 1\n",
    "            j += 1\n",
    "    return output\n",
    "\n",
    "print(diagonal_adding1(data))"
   ]
  },
  {
   "cell_type": "code",
   "execution_count": 3,
   "metadata": {},
   "outputs": [
    {
     "name": "stdout",
     "output_type": "stream",
     "text": [
      "103\n"
     ]
    }
   ],
   "source": [
    "def diagonal_adding2(xs):\n",
    "    \"\"\"Calculates main diagonal of square matrix using index iteration\"\"\"\n",
    "    i=0\n",
    "    j=0\n",
    "    output=0\n",
    "    if type(xs) == list:\n",
    "        for i in range(len(xs)):\n",
    "            output += xs[i][j]\n",
    "            i+=1\n",
    "            j+=1\n",
    "        return output\n",
    "    else:\n",
    "        return \"Wrong input\"\n",
    "\n",
    "print(diagonal_adding2(data))"
   ]
  },
  {
   "cell_type": "markdown",
   "metadata": {},
   "source": [
    "## Задание 2"
   ]
  },
  {
   "cell_type": "markdown",
   "metadata": {},
   "source": [
    "Дан список чисел, часть из которых имеют строковый тип или содержат буквы. Напишите функцию, которая возвращает сумму квадратов элементов, которые могут быть числами."
   ]
  },
  {
   "cell_type": "code",
   "execution_count": 4,
   "metadata": {},
   "outputs": [],
   "source": [
    "data = [1, '5', 'abc', 20, '2']"
   ]
  },
  {
   "cell_type": "markdown",
   "metadata": {},
   "source": [
    "Задание 2. Решение:"
   ]
  },
  {
   "cell_type": "code",
   "execution_count": 5,
   "metadata": {},
   "outputs": [
    {
     "name": "stdout",
     "output_type": "stream",
     "text": [
      "430\n"
     ]
    }
   ],
   "source": [
    "def repl_i_to_numb(a):\n",
    "    \"\"\"Replaces element to type int if possible, other replaces to 0\"\"\"\n",
    "    try:\n",
    "        a=int(a)\n",
    "    except:\n",
    "        a=0\n",
    "    return a\n",
    "\n",
    "def sum_squar(xs):\n",
    "    \"\"\"Calculates sum of squares of elements converting them to int where possible\"\"\"\n",
    "    output=0\n",
    "    for xss in xs:\n",
    "        output += (repl_i_to_numb(xss))**2\n",
    "    return output\n",
    "\n",
    "print(sum_squar(data))"
   ]
  },
  {
   "cell_type": "markdown",
   "metadata": {},
   "source": [
    "## Задание 3"
   ]
  },
  {
   "cell_type": "markdown",
   "metadata": {},
   "source": [
    "Напишите функцию, возвращающую сумму первых n чисел Фибоначчи."
   ]
  },
  {
   "cell_type": "markdown",
   "metadata": {},
   "source": [
    "Задание 3. Решение:"
   ]
  },
  {
   "cell_type": "code",
   "execution_count": 6,
   "metadata": {},
   "outputs": [
    {
     "name": "stdout",
     "output_type": "stream",
     "text": [
      "55\n",
      "143\n"
     ]
    }
   ],
   "source": [
    "def fib(n):\n",
    "    \"\"\"Calculates element index n in Fibonacci row\"\"\"\n",
    "    a = 0\n",
    "    b = 1\n",
    "    for i in range(n):\n",
    "        a, b = b, a + b\n",
    "    return a\n",
    "\n",
    "\n",
    "def fib_sum(n):\n",
    "    \"\"\"Calculates sum of elements in Fibonacci row till (incl) n\"\"\"\n",
    "    output=0\n",
    "    for i in range(n+1):\n",
    "        output = output + fib(i)\n",
    "        i += 1\n",
    "    return output\n",
    "\n",
    "print(fib(10))\n",
    "print(fib_sum(10))"
   ]
  },
  {
   "cell_type": "markdown",
   "metadata": {},
   "source": [
    "## Задание 4"
   ]
  },
  {
   "cell_type": "markdown",
   "metadata": {},
   "source": [
    "Дан набор данных об обучении студентов на курсе программирования, который содержит: \n",
    "1) имя\n",
    "2) фамилию \n",
    "3) пол \n",
    "4) наличие у студента опыта в программировании \n",
    "5) набор оценок за домашние работы \n",
    "6) оценку за итоговую работу.\n",
    "\n",
    "Напишите программу, которая будет принимать команду от пользователя и возвращать соотвествующий результат.\n",
    "Список команд: \n",
    "1 - вывести на экран среднюю оценку за все ДЗ по группе и вывести на экран среднюю оценку за экзамен по группе;\n",
    "2 - вывести среднюю оценку за ДЗ и за экзамен по группе в разрезе пола студентов\n",
    "3 - вывести среднюю оценку за ДЗ и за экзамен в разрезе наличия опыта в программировании у студентов.\n",
    "\n",
    "Прогрмма должна быть полностью декомпозирована на функции (кроме объявления функций и вызова итоговой функции в реализации ничего быть не должно)."
   ]
  },
  {
   "cell_type": "code",
   "execution_count": 7,
   "metadata": {},
   "outputs": [],
   "source": [
    "students_list = [\n",
    "    {'name': 'Василий', 'surname': 'Теркин', 'sex': 'м', 'program_exp': True, 'grade': [8, 8, 9, 10, 9], 'exam': 9},\n",
    "    {'name': 'Мария', 'surname': 'Павлова', 'sex': 'ж', 'program_exp': True, 'grade': [7, 8, 9, 7, 9], 'exam': 8},\n",
    "    {'name': 'Ирина', 'surname': 'Андреева', 'sex': 'ж', 'program_exp': True, 'grade': [10, 9, 8, 10, 10], 'exam': 10},\n",
    "    {'name': 'Татьяна', 'surname': 'Сидорова', 'sex': 'ж', 'program_exp': True, 'grade': [7, 8, 8, 9, 8], 'exam': 8},\n",
    "    {'name': 'Иван', 'surname': 'Васильев', 'sex': 'ж', 'program_exp': True, 'grade': [9, 8, 9, 6, 9], 'exam': 10},\n",
    "    {'name': 'Роман', 'surname': 'Золотарев', 'sex': 'ж', 'program_exp': False, 'grade': [8, 9, 9, 6, 9], 'exam': 10}\n",
    "]"
   ]
  },
  {
   "cell_type": "markdown",
   "metadata": {},
   "source": [
    "Задание 4. Решение:"
   ]
  },
  {
   "cell_type": "code",
   "execution_count": 13,
   "metadata": {},
   "outputs": [
    {
     "name": "stdout",
     "output_type": "stream",
     "text": [
      "Нажмите клавишу с цифрой:         1 - вывести на экран среднюю оценку за все ДЗ по группе         и вывести на экран среднюю оценку за экзамен по группе,         2 - вывести среднюю оценку за ДЗ и за экзамен по группе в разрезе пола студентов,         3 - вывести среднюю оценку за ДЗ и за экзамен в разрезе наличия опыта в         программировании у студентов \n",
      " \t3\n",
      "Ср. оценка за экзамен в группе, есть опыт программирования: 9.0 \n",
      "Ср. оценка за экзамен в группе, нет опыта программирования: 10.0 \n",
      "Ср. оценка за ДЗ в группе, есть опыт программирования: 8.48 \n",
      "Ср. оценка за ДЗ в группе, нет опыта программирования: 8.2 \n",
      "\n"
     ]
    }
   ],
   "source": [
    "def filt_list_by_param (xs, param, vl):\n",
    "    \"\"\"Filters list of vocabularies by key:value\"\"\"\n",
    "    b=[]\n",
    "    for xxs in xs:\n",
    "        if xxs.get(param) == vl:\n",
    "            b.append(xxs)\n",
    "    return b\n",
    "\n",
    "def listin_aver(xs):\n",
    "    \"\"\"Calculates average in a list of values\"\"\"\n",
    "    return(round(sum(xs)/len(xs),2))\n",
    "\n",
    "def val_listin(xs, val):\n",
    "    \"\"\"Returns list of values by some key in vocabulary\"\"\"\n",
    "    a=[]\n",
    "    for xxs in xs:\n",
    "        a.append(xxs.get(val))\n",
    "    return a\n",
    "\n",
    "def val_val_listin(xs, val):\n",
    "    \"\"\"Returns list of values by some key in vocabulary where value is a list\"\"\"\n",
    "    a=[]\n",
    "    for xxs in xs:\n",
    "        a += (xxs.get(val))\n",
    "    return a\n",
    "\n",
    "def input_response():\n",
    "    \"\"\"Main interface - takes input and returns data\"\"\"\n",
    "    try:\n",
    "        a=int(input(\"Нажмите клавишу с цифрой: \\\n",
    "        1 - вывести на экран среднюю оценку за все ДЗ по группе\\\n",
    "         и вывести на экран среднюю оценку за экзамен по группе, \\\n",
    "        2 - вывести среднюю оценку за ДЗ и за экзамен по группе в разрезе пола студентов, \\\n",
    "        3 - вывести среднюю оценку за ДЗ и за экзамен в разрезе наличия опыта в \\\n",
    "        программировании у студентов \\n \\t\"))\n",
    "        if a==1:\n",
    "            print(\n",
    "            \"Ср. оценка за экзамен в группе:\",\n",
    "            listin_aver(val_listin(students_list,'exam')),\"\\n\",\n",
    "            \"Ср. оценка за ДЗ в группе:\",\n",
    "             listin_aver(val_val_listin(students_list,'grade'))\n",
    "            )\n",
    "        elif a==2:\n",
    "            print(\n",
    "            \"Ср. оценка за экзамен в группе, пол жен:\",\n",
    "            (listin_aver( val_listin(filt_list_by_param(students_list,'sex','ж'),'exam')) ),\"\\n\"\n",
    "            \"Ср. оценка за экзамен в группе, пол муж:\",\n",
    "            (listin_aver( val_listin(filt_list_by_param(students_list,'sex','м'),'exam')) ),\"\\n\"\n",
    "            \"Ср. оценка за ДЗ в группе, пол жен:\",\n",
    "            (listin_aver( val_val_listin(filt_list_by_param(students_list,'sex','ж'),'grade')) ),\"\\n\"\n",
    "            \"Ср. оценка за ДЗ в группе, пол муж:\",\n",
    "            (listin_aver( val_val_listin(filt_list_by_param(students_list,'sex','м'),'grade')) ),\"\\n\"\n",
    "            )\n",
    "        elif a==3:\n",
    "            print(\n",
    "            \"Ср. оценка за экзамен в группе, есть опыт программирования:\",\n",
    "            (listin_aver( val_listin(filt_list_by_param(students_list,'program_exp',True),'exam')) ),\"\\n\"\n",
    "            \"Ср. оценка за экзамен в группе, нет опыта программирования:\",\n",
    "            (listin_aver( val_listin(filt_list_by_param(students_list,'program_exp', False),'exam')) ),\"\\n\"\n",
    "            \"Ср. оценка за ДЗ в группе, есть опыт программирования:\",\n",
    "            (listin_aver( val_val_listin(filt_list_by_param(students_list,'program_exp',True),'grade')) ),\"\\n\"\n",
    "            \"Ср. оценка за ДЗ в группе, нет опыта программирования:\",\n",
    "            (listin_aver( val_val_listin(filt_list_by_param(students_list,'program_exp', False),'grade')) ),\"\\n\"\n",
    "            )\n",
    "        else:\n",
    "            print(\"Некорректный ввод \")\n",
    "    except:\n",
    "        print(\"Некорректный ввод \")\n",
    "\n",
    "\n",
    "input_response()"
   ]
  }
 ],
 "metadata": {
  "kernelspec": {
   "display_name": "Python 3",
   "language": "python",
   "name": "python3"
  },
  "language_info": {
   "codemirror_mode": {
    "name": "ipython",
    "version": 3
   },
   "file_extension": ".py",
   "mimetype": "text/x-python",
   "name": "python",
   "nbconvert_exporter": "python",
   "pygments_lexer": "ipython3",
   "version": "3.7.3"
  }
 },
 "nbformat": 4,
 "nbformat_minor": 2
}
