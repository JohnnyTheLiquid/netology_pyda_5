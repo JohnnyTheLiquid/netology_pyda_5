{
  "nbformat": 4,
  "nbformat_minor": 0,
  "metadata": {
    "colab": {
      "name": "dvp_4_pomoynitsky_hw_1.ipynb",
      "provenance": [],
      "collapsed_sections": []
    },
    "kernelspec": {
      "name": "python3",
      "display_name": "Python 3"
    }
  },
  "cells": [
    {
      "cell_type": "markdown",
      "metadata": {
        "id": "c_O4uc_2mSJF",
        "colab_type": "text"
      },
      "source": [
        "### Домашнее задание к лекции 1 Введение в Feature engineering"
      ]
    },
    {
      "cell_type": "markdown",
      "metadata": {
        "id": "bRaq9TpBmmvQ",
        "colab_type": "text"
      },
      "source": [
        "**Задание:**\n",
        "\n",
        "Необходимо запустить практическую часть занятия- файл находиться в материалых, и посмотреть самому то, о чём говорили на лекции.\n",
        "По образу практики, попробуйте создать искусственный датасет с лишними столбцами.\n",
        "Целевую метку, при правильной обработке данных, формируйте таким образом, чтобы без затруднений её смогла описать линейная модель.\n",
        "Ориентируйтесь на то, что было показано во время занятия, и каждый шаг описывайте в markdown.\n",
        "Здесь важно видеть ваш ход мысли. Не бойтесь ошибиться или написать не то. Данное задание не имеет какого-то “правильного” решения. Цель - достичь базового понимания проблемы. Чем больше вы фантазируете, тем лучше :) Тем не менее, старайтесь представить те ситуации, которые по-вашему мнению могли бы быть в реальных данных. Успеха!\n"
      ]
    },
    {
      "cell_type": "markdown",
      "metadata": {
        "id": "-AjyPnSXm1v3",
        "colab_type": "text"
      },
      "source": [
        "**Решение:**\n",
        "\n",
        "Создадим искусственный датасет, который описывает продажи в магазине, в зависимости от следующих факторов:\n",
        "- затраты на рекламу;\n",
        "- затраты на персонал;\n",
        "- стоимость аренды;\n",
        "- ставка аренды за кв м, чем выше - тем более качественная локация, приносящая больше траффика;\n",
        "- площадь магазина;\n",
        "\n",
        "В данном случае стоимость аренды с одной стороны и ставка аренды + площадь с другой - зависимы, то есть, мы предполагаем, что без ущерба для модели можно брать либо первое, либо пару вторых. \n",
        "\n",
        "Затраты на персонал могут оказывать влияние, а могут и не влиять в реальности, но в нашей условной модели считаем - не влияют\n"
      ]
    },
    {
      "cell_type": "code",
      "metadata": {
        "id": "7QBHsz0C-XOA",
        "colab_type": "code",
        "colab": {}
      },
      "source": [
        "import numpy as np\n",
        "import pandas as pd\n",
        "\n",
        "from sklearn.linear_model import LinearRegression\n",
        "from sklearn.metrics import mean_absolute_error\n",
        "import statistics"
      ],
      "execution_count": 0,
      "outputs": []
    },
    {
      "cell_type": "code",
      "metadata": {
        "id": "0bLEB_vomPE2",
        "colab_type": "code",
        "colab": {}
      },
      "source": [
        "n_samp = 500\n",
        "atl = np.random.choice(900, n_samp)\n",
        "staff = np.random.choice(200, n_samp) + 50\n",
        "rent = np.random.choice(2000, n_samp) + 100\n",
        "rent_price = np.random.choice(200, n_samp) + 100\n",
        "area = np.random.choice(10, n_samp) + 10\n",
        "\n",
        "turnover = atl * rent * 50\n",
        "\n"
      ],
      "execution_count": 0,
      "outputs": []
    },
    {
      "cell_type": "code",
      "metadata": {
        "id": "4y8iimmYBBFl",
        "colab_type": "code",
        "outputId": "19ae7bfb-2870-4087-882e-6b3337acf160",
        "colab": {
          "base_uri": "https://localhost:8080/",
          "height": 204
        }
      },
      "source": [
        "df = pd.DataFrame({'atl':atl, 'staff':staff, 'rent':rent, 'rent_price':rent_price, 'area':area, 'turnover':turnover})\n",
        "df.head()"
      ],
      "execution_count": 35,
      "outputs": [
        {
          "output_type": "execute_result",
          "data": {
            "text/html": [
              "<div>\n",
              "<style scoped>\n",
              "    .dataframe tbody tr th:only-of-type {\n",
              "        vertical-align: middle;\n",
              "    }\n",
              "\n",
              "    .dataframe tbody tr th {\n",
              "        vertical-align: top;\n",
              "    }\n",
              "\n",
              "    .dataframe thead th {\n",
              "        text-align: right;\n",
              "    }\n",
              "</style>\n",
              "<table border=\"1\" class=\"dataframe\">\n",
              "  <thead>\n",
              "    <tr style=\"text-align: right;\">\n",
              "      <th></th>\n",
              "      <th>atl</th>\n",
              "      <th>staff</th>\n",
              "      <th>rent</th>\n",
              "      <th>rent_price</th>\n",
              "      <th>area</th>\n",
              "      <th>turnover</th>\n",
              "    </tr>\n",
              "  </thead>\n",
              "  <tbody>\n",
              "    <tr>\n",
              "      <th>0</th>\n",
              "      <td>876</td>\n",
              "      <td>177</td>\n",
              "      <td>666</td>\n",
              "      <td>132</td>\n",
              "      <td>19</td>\n",
              "      <td>29170800</td>\n",
              "    </tr>\n",
              "    <tr>\n",
              "      <th>1</th>\n",
              "      <td>63</td>\n",
              "      <td>163</td>\n",
              "      <td>1156</td>\n",
              "      <td>209</td>\n",
              "      <td>18</td>\n",
              "      <td>3641400</td>\n",
              "    </tr>\n",
              "    <tr>\n",
              "      <th>2</th>\n",
              "      <td>170</td>\n",
              "      <td>149</td>\n",
              "      <td>531</td>\n",
              "      <td>294</td>\n",
              "      <td>11</td>\n",
              "      <td>4513500</td>\n",
              "    </tr>\n",
              "    <tr>\n",
              "      <th>3</th>\n",
              "      <td>56</td>\n",
              "      <td>147</td>\n",
              "      <td>1021</td>\n",
              "      <td>267</td>\n",
              "      <td>15</td>\n",
              "      <td>2858800</td>\n",
              "    </tr>\n",
              "    <tr>\n",
              "      <th>4</th>\n",
              "      <td>29</td>\n",
              "      <td>65</td>\n",
              "      <td>1749</td>\n",
              "      <td>190</td>\n",
              "      <td>18</td>\n",
              "      <td>2536050</td>\n",
              "    </tr>\n",
              "  </tbody>\n",
              "</table>\n",
              "</div>"
            ],
            "text/plain": [
              "   atl  staff  rent  rent_price  area  turnover\n",
              "0  876    177   666         132    19  29170800\n",
              "1   63    163  1156         209    18   3641400\n",
              "2  170    149   531         294    11   4513500\n",
              "3   56    147  1021         267    15   2858800\n",
              "4   29     65  1749         190    18   2536050"
            ]
          },
          "metadata": {
            "tags": []
          },
          "execution_count": 35
        }
      ]
    },
    {
      "cell_type": "code",
      "metadata": {
        "id": "tQ2nmGRnELrR",
        "colab_type": "code",
        "outputId": "327713f6-8e00-475f-c869-d7be2670a079",
        "colab": {
          "base_uri": "https://localhost:8080/",
          "height": 34
        }
      },
      "source": [
        "df.columns"
      ],
      "execution_count": 36,
      "outputs": [
        {
          "output_type": "execute_result",
          "data": {
            "text/plain": [
              "Index(['atl', 'staff', 'rent', 'rent_price', 'area', 'turnover'], dtype='object')"
            ]
          },
          "metadata": {
            "tags": []
          },
          "execution_count": 36
        }
      ]
    },
    {
      "cell_type": "code",
      "metadata": {
        "id": "T27OIbslD_RD",
        "colab_type": "code",
        "outputId": "dc4d9e82-bf9f-4927-f1b3-ac67bb9caf47",
        "colab": {
          "base_uri": "https://localhost:8080/",
          "height": 68
        }
      },
      "source": [
        "y = df['turnover']\n",
        "X1 = df[['atl', 'staff', 'rent', 'rent_price', 'area']]\n",
        "\n",
        "reg = LinearRegression().fit(X1, y)\n",
        "\n",
        "print(f'Weights: {reg.coef_}')\n",
        "print(f'Bias: {reg.intercept_}')"
      ],
      "execution_count": 37,
      "outputs": [
        {
          "output_type": "stream",
          "text": [
            "Weights: [53524.20808424 -1803.73172992 21274.56248646  6110.33538013\n",
            " 24889.91281052]\n",
            "Bias: -24020256.929531798\n"
          ],
          "name": "stdout"
        }
      ]
    },
    {
      "cell_type": "code",
      "metadata": {
        "id": "OUKOgb5sGNlM",
        "colab_type": "code",
        "outputId": "86d42560-0cbc-41c9-c5da-0be6ef9806e6",
        "colab": {
          "base_uri": "https://localhost:8080/",
          "height": 51
        }
      },
      "source": [
        "predicted = reg.predict(X1)\n",
        "\n",
        "print(f'Prediction error: {mean_absolute_error(predicted, y)}')\n",
        "print(f'Relative comparison of the error and mean of turnover is: {round((100 * mean_absolute_error(predicted, y) / statistics.mean(y)), 2)}%')"
      ],
      "execution_count": 38,
      "outputs": [
        {
          "output_type": "stream",
          "text": [
            "Prediction error: 5480633.085334305\n",
            "Relative comparison of the error and mean of turnover is: 22.2%\n"
          ],
          "name": "stdout"
        }
      ]
    },
    {
      "cell_type": "markdown",
      "metadata": {
        "id": "8i2F1s6kHOoi",
        "colab_type": "text"
      },
      "source": [
        "Модель линейной регрессии вывела уравнение зависимости вида (WeightsN - коэффициент из модели, N - порядковый номер в выводе ячейки ноутбука):\n",
        "Weights1 * atl + Weights2 * staff + Weights3 * rent + Weights4 * rent_price + Weights5 * area - Bias = turnover +- Prediction error\n",
        "\n",
        "Возьмем в качестве метрики следующую величину - Отношение вычисленной ошибки предсказания модели к среднему значению turnover, оно достаточно велико: 22.2%"
      ]
    },
    {
      "cell_type": "markdown",
      "metadata": {
        "id": "cXLIMUFHdwRO",
        "colab_type": "text"
      },
      "source": [
        "Сравним точность предсказания модели, если убрать переменную staff"
      ]
    },
    {
      "cell_type": "code",
      "metadata": {
        "id": "QcBrQaRuaUAL",
        "colab_type": "code",
        "colab": {
          "base_uri": "https://localhost:8080/",
          "height": 85
        },
        "outputId": "3ddf2250-398a-4333-90d4-e035b0485a78"
      },
      "source": [
        "y = df['turnover']\n",
        "X2 = df[['atl', 'rent', 'rent_price', 'area']]\n",
        "\n",
        "reg = LinearRegression().fit(X2, y)\n",
        "predicted = reg.predict(X2)\n",
        "\n",
        "print(f'Weights: {reg.coef_}')\n",
        "print(f'Bias: {reg.intercept_}')\n",
        "print(f'Prediction error: {mean_absolute_error(predicted, y)}')\n",
        "print(f'Relative comparison of the error and mean of turnover is: {round((100 * mean_absolute_error(predicted, y) / statistics.mean(y)), 2)}%')"
      ],
      "execution_count": 39,
      "outputs": [
        {
          "output_type": "stream",
          "text": [
            "Weights: [53523.85324086 21270.39445411  6017.58236593 26594.90717171]\n",
            "Bias: -24291772.801218018\n",
            "Prediction error: 5486749.432289083\n",
            "Relative comparison of the error and mean of turnover is: 22.22%\n"
          ],
          "name": "stdout"
        }
      ]
    },
    {
      "cell_type": "markdown",
      "metadata": {
        "id": "kngVZXuFfIXQ",
        "colab_type": "text"
      },
      "source": [
        "Считаем, что изменения точности предсказания нет, сотые процента в данных условиях не могут считаться значимым изменением.\n",
        "\n",
        "Следующий шаг - уберем еще переменные rent_price и area"
      ]
    },
    {
      "cell_type": "code",
      "metadata": {
        "id": "GZisQgJafGJ2",
        "colab_type": "code",
        "colab": {
          "base_uri": "https://localhost:8080/",
          "height": 85
        },
        "outputId": "e2259c76-1b45-4ead-8ad7-43f3c335568b"
      },
      "source": [
        "y = df['turnover']\n",
        "X3 = df[['atl', 'rent']]\n",
        "\n",
        "reg = LinearRegression().fit(X3, y)\n",
        "predicted = reg.predict(X3)\n",
        "\n",
        "print(f'Weights: {reg.coef_}')\n",
        "print(f'Bias: {reg.intercept_}')\n",
        "print(f'Prediction error: {mean_absolute_error(predicted, y)}')\n",
        "print(f'Relative comparison of the error and mean of turnover is: {round((100 * mean_absolute_error(predicted, y) / statistics.mean(y)), 2)}%')"
      ],
      "execution_count": 40,
      "outputs": [
        {
          "output_type": "stream",
          "text": [
            "Weights: [53559.33814522 21326.62141989]\n",
            "Bias: -22768398.931502074\n",
            "Prediction error: 5481606.639222896\n",
            "Relative comparison of the error and mean of turnover is: 22.2%\n"
          ],
          "name": "stdout"
        }
      ]
    },
    {
      "cell_type": "markdown",
      "metadata": {
        "id": "-wjxpW4Tf3ti",
        "colab_type": "text"
      },
      "source": [
        "Дальнейшее уменьшение переменных практически не влияет на точность предсказания модели, изменения в пределах сотых выбранной нами метрики.\n",
        "\n",
        "Почему предсказание модели по прежнему не точное? Поскольку мы точно знаем, как задавали вычисление turnover в нашем датафрейме, то мы также знаем, что зависимость целевого показателя от переменных не является линейным уравнением. \n",
        "\n",
        "Сформулируем гипотезу: Если, задать при формировании датасета четкую линейную зависимость переменных и целевого показателя, модель линейной регрессии найдет формулу с высокой точностью. \n",
        "\n",
        "Проверим гипотезу:"
      ]
    },
    {
      "cell_type": "code",
      "metadata": {
        "id": "Rkv2r3YHkRpo",
        "colab_type": "code",
        "colab": {
          "base_uri": "https://localhost:8080/",
          "height": 204
        },
        "outputId": "4f5e7e84-2602-46fc-d9c2-3ec2e84f435f"
      },
      "source": [
        "turnover2 = atl * 20 + rent * 50 + 1000\n",
        "df = pd.DataFrame({'atl':atl, 'staff':staff, 'rent':rent, 'rent_price':rent_price, 'area':area, 'turnover2':turnover2})\n",
        "df.head()"
      ],
      "execution_count": 45,
      "outputs": [
        {
          "output_type": "execute_result",
          "data": {
            "text/html": [
              "<div>\n",
              "<style scoped>\n",
              "    .dataframe tbody tr th:only-of-type {\n",
              "        vertical-align: middle;\n",
              "    }\n",
              "\n",
              "    .dataframe tbody tr th {\n",
              "        vertical-align: top;\n",
              "    }\n",
              "\n",
              "    .dataframe thead th {\n",
              "        text-align: right;\n",
              "    }\n",
              "</style>\n",
              "<table border=\"1\" class=\"dataframe\">\n",
              "  <thead>\n",
              "    <tr style=\"text-align: right;\">\n",
              "      <th></th>\n",
              "      <th>atl</th>\n",
              "      <th>staff</th>\n",
              "      <th>rent</th>\n",
              "      <th>rent_price</th>\n",
              "      <th>area</th>\n",
              "      <th>turnover2</th>\n",
              "    </tr>\n",
              "  </thead>\n",
              "  <tbody>\n",
              "    <tr>\n",
              "      <th>0</th>\n",
              "      <td>876</td>\n",
              "      <td>177</td>\n",
              "      <td>666</td>\n",
              "      <td>132</td>\n",
              "      <td>19</td>\n",
              "      <td>51820</td>\n",
              "    </tr>\n",
              "    <tr>\n",
              "      <th>1</th>\n",
              "      <td>63</td>\n",
              "      <td>163</td>\n",
              "      <td>1156</td>\n",
              "      <td>209</td>\n",
              "      <td>18</td>\n",
              "      <td>60060</td>\n",
              "    </tr>\n",
              "    <tr>\n",
              "      <th>2</th>\n",
              "      <td>170</td>\n",
              "      <td>149</td>\n",
              "      <td>531</td>\n",
              "      <td>294</td>\n",
              "      <td>11</td>\n",
              "      <td>30950</td>\n",
              "    </tr>\n",
              "    <tr>\n",
              "      <th>3</th>\n",
              "      <td>56</td>\n",
              "      <td>147</td>\n",
              "      <td>1021</td>\n",
              "      <td>267</td>\n",
              "      <td>15</td>\n",
              "      <td>53170</td>\n",
              "    </tr>\n",
              "    <tr>\n",
              "      <th>4</th>\n",
              "      <td>29</td>\n",
              "      <td>65</td>\n",
              "      <td>1749</td>\n",
              "      <td>190</td>\n",
              "      <td>18</td>\n",
              "      <td>89030</td>\n",
              "    </tr>\n",
              "  </tbody>\n",
              "</table>\n",
              "</div>"
            ],
            "text/plain": [
              "   atl  staff  rent  rent_price  area  turnover2\n",
              "0  876    177   666         132    19      51820\n",
              "1   63    163  1156         209    18      60060\n",
              "2  170    149   531         294    11      30950\n",
              "3   56    147  1021         267    15      53170\n",
              "4   29     65  1749         190    18      89030"
            ]
          },
          "metadata": {
            "tags": []
          },
          "execution_count": 45
        }
      ]
    },
    {
      "cell_type": "code",
      "metadata": {
        "id": "QS_O0O_lkpNb",
        "colab_type": "code",
        "colab": {
          "base_uri": "https://localhost:8080/",
          "height": 85
        },
        "outputId": "27ae3224-3a85-47af-96e5-d2c2708c8df2"
      },
      "source": [
        "y = df['turnover2']\n",
        "X = df[['atl', 'rent', 'rent_price', 'area']]\n",
        "\n",
        "reg = LinearRegression().fit(X, y)\n",
        "predicted = reg.predict(X)\n",
        "\n",
        "print(f'Weights: {reg.coef_}')\n",
        "print(f'Bias: {reg.intercept_}')\n",
        "print(f'Prediction error: {mean_absolute_error(predicted, y)}')\n",
        "print(f'Relative comparison of the error and mean of turnover is: {round((100 * mean_absolute_error(predicted, y) / statistics.mean(y)), 2)}%')"
      ],
      "execution_count": 46,
      "outputs": [
        {
          "output_type": "stream",
          "text": [
            "Weights: [ 2.00000000e+01  5.00000000e+01 -1.77635684e-15  1.31228362e-13]\n",
            "Bias: 999.9999999999491\n",
            "Prediction error: 1.9761500880122186e-11\n",
            "Relative comparison of the error and mean of turnover is: 0.0%\n"
          ],
          "name": "stdout"
        }
      ]
    },
    {
      "cell_type": "markdown",
      "metadata": {
        "id": "pTWowKNhlAxv",
        "colab_type": "text"
      },
      "source": [
        "Как видим, если ввести четкую линейную зависимость, модель регрессии найдет коэффициенты уравнения и в том случае, если есть лишние переменные. Коэффициенты при лишних переменных очень малы, десять в -15 и -13 степени, а коэффициенты при значащих переменных и свободный член уравнения найдены с идеальной точностью.\n",
        "\n",
        "Конечно, в общем случае, мы не можем считать, что проверка гипотезы на одном датасете - это достаточное доказательство. В условиях реального эксперимента необходимо было бы проверить достаточное количество датасетов с получением устойчивого результата. В условиях нашего эксперимента факт того, что модель линейной регрессии хорошо работает с данными, имеющими линейную зависимость, очевиден. "
      ]
    },
    {
      "cell_type": "code",
      "metadata": {
        "id": "zeG3Zbcln01R",
        "colab_type": "code",
        "colab": {}
      },
      "source": [
        ""
      ],
      "execution_count": 0,
      "outputs": []
    }
  ]
}