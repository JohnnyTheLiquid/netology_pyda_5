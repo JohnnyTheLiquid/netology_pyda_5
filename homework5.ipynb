{
 "cells": [
  {
   "cell_type": "markdown",
   "metadata": {},
   "source": [
    "Задание 1\n",
    "Создайте numpy array с элементами от числа N до 0 (например, для N = 10 это будет array([9, 8, 7, 6, 5, 4, 3, 2, 1, 0]))."
   ]
  },
  {
   "cell_type": "markdown",
   "metadata": {},
   "source": [
    "Задание 1. Решение:"
   ]
  },
  {
   "cell_type": "code",
   "execution_count": 16,
   "metadata": {},
   "outputs": [],
   "source": [
    "import numpy as np "
   ]
  },
  {
   "cell_type": "code",
   "execution_count": 21,
   "metadata": {},
   "outputs": [
    {
     "name": "stdout",
     "output_type": "stream",
     "text": [
      "Введите число, от которого неободимо отсчитать массив по убыванию:  10\n"
     ]
    },
    {
     "data": {
      "text/plain": [
       "array([10,  9,  8,  7,  6,  5,  4,  3,  2,  1])"
      ]
     },
     "execution_count": 21,
     "metadata": {},
     "output_type": "execute_result"
    }
   ],
   "source": [
    "N=int(input(\"Введите число, от которого неободимо отсчитать массив по убыванию:  \"))\n",
    "np.arange(N,0,-1)"
   ]
  },
  {
   "cell_type": "markdown",
   "metadata": {},
   "source": [
    "Задание 2\n",
    "Создайте диагональную матрицу с элементами от N до 0. Посчитайте сумму ее значений на диагонали."
   ]
  },
  {
   "cell_type": "code",
   "execution_count": 67,
   "metadata": {},
   "outputs": [
    {
     "name": "stdout",
     "output_type": "stream",
     "text": [
      "[[10  0  0  0  0  0  0  0  0  0]\n",
      " [ 0  9  0  0  0  0  0  0  0  0]\n",
      " [ 0  0  8  0  0  0  0  0  0  0]\n",
      " [ 0  0  0  7  0  0  0  0  0  0]\n",
      " [ 0  0  0  0  6  0  0  0  0  0]\n",
      " [ 0  0  0  0  0  5  0  0  0  0]\n",
      " [ 0  0  0  0  0  0  4  0  0  0]\n",
      " [ 0  0  0  0  0  0  0  3  0  0]\n",
      " [ 0  0  0  0  0  0  0  0  2  0]\n",
      " [ 0  0  0  0  0  0  0  0  0  1]]\n",
      "55\n"
     ]
    }
   ],
   "source": [
    "matr=np.diag(np.arange(N,0,-1), k=0)\n",
    "summ_diag=sum(sum(matr))\n",
    "\n",
    "print(matr)\n",
    "print(summ_diag)"
   ]
  },
  {
   "cell_type": "markdown",
   "metadata": {},
   "source": [
    "Если элементы, отличные от нуля стоят на главной дигонали, то 0 не включится. 0 включить можно, если матрицу сделать не квадратной:"
   ]
  },
  {
   "cell_type": "code",
   "execution_count": 68,
   "metadata": {},
   "outputs": [
    {
     "name": "stdout",
     "output_type": "stream",
     "text": [
      "[[ 0 10  0  0  0  0  0  0  0  0  0]\n",
      " [ 0  0  9  0  0  0  0  0  0  0  0]\n",
      " [ 0  0  0  8  0  0  0  0  0  0  0]\n",
      " [ 0  0  0  0  7  0  0  0  0  0  0]\n",
      " [ 0  0  0  0  0  6  0  0  0  0  0]\n",
      " [ 0  0  0  0  0  0  5  0  0  0  0]\n",
      " [ 0  0  0  0  0  0  0  4  0  0  0]\n",
      " [ 0  0  0  0  0  0  0  0  3  0  0]\n",
      " [ 0  0  0  0  0  0  0  0  0  2  0]\n",
      " [ 0  0  0  0  0  0  0  0  0  0  1]\n",
      " [ 0  0  0  0  0  0  0  0  0  0  0]]\n",
      "55\n"
     ]
    }
   ],
   "source": [
    "matr2=np.diag(np.arange(N,0,-1), k=1)\n",
    "summ2_diag=sum(sum(matr2))\n",
    "\n",
    "\n",
    "print(matr2)\n",
    "print(summ2_diag)"
   ]
  },
  {
   "cell_type": "code",
   "execution_count": 26,
   "metadata": {},
   "outputs": [
    {
     "name": "stdout",
     "output_type": "stream",
     "text": [
      "55\n"
     ]
    }
   ],
   "source": []
  },
  {
   "cell_type": "markdown",
   "metadata": {},
   "source": [
    "Задание 3\n",
    "Решите систему уравнений:\n",
    "4x + 2y + z = 4\n",
    "x + 3y = 12\n",
    "5y + 4z = -3"
   ]
  },
  {
   "cell_type": "code",
   "execution_count": 27,
   "metadata": {},
   "outputs": [],
   "source": [
    "import numpy as np\n",
    "\n",
    "a1=np.array([[4,2,1]])\n",
    "a2=np.array([[1,3,0]])\n",
    "a3=np.array([[0,5,4]])\n",
    "b=np.array([4,12,-3])"
   ]
  },
  {
   "cell_type": "code",
   "execution_count": 28,
   "metadata": {},
   "outputs": [
    {
     "name": "stdout",
     "output_type": "stream",
     "text": [
      "[ 0.46666667  3.84444444 -5.55555556]\n",
      "True\n"
     ]
    }
   ],
   "source": [
    "matr_coef=np.concatenate((a1,a2,a3),axis=0)\n",
    "\n",
    "#решение с помощью встроенного в Numpy метода\n",
    "from numpy import linalg\n",
    "\n",
    "print(linalg.solve(matr_coef,b))\n",
    "\n",
    "#Проверка решения через произведение\n",
    "\n",
    "print(\n",
    "np.allclose(\n",
    "np.dot(matr_coef,linalg.solve(matr_coef,b)),b\n",
    "))"
   ]
  },
  {
   "cell_type": "markdown",
   "metadata": {},
   "source": [
    "Константин, \n",
    "я еще попробовал выполнить решение с автоматизацией, чтобы коэффициенты при переменных системы уравнений вытаскивались не руками, но до конца не получилось. Если сможете направить, как надо действовать, буду признателен."
   ]
  },
  {
   "cell_type": "markdown",
   "metadata": {},
   "source": [
    "Поскольку инструментами для семантического анализа еще не владеем (чтобы понять, где при перменной коэффициент 0), то переписываем условие:\n",
    "Решите систему уравнений:\n",
    "4x + 2y + z = 4\n",
    "x + 3y + 0z = 12\n",
    "0x + 5y + 4z = -3"
   ]
  },
  {
   "cell_type": "code",
   "execution_count": 30,
   "metadata": {},
   "outputs": [],
   "source": [
    "eq_syst='4x + 2y + z = 4 x + 3y + 0z = 12 0x + 5y + 4z = -3'\n",
    "a1=[]\n",
    "a2=[]\n",
    "a3=[]"
   ]
  },
  {
   "cell_type": "code",
   "execution_count": 57,
   "metadata": {},
   "outputs": [
    {
     "data": {
      "text/plain": [
       "array([[4., 1., 0.],\n",
       "       [2., 3., 5.],\n",
       "       [1., 0., 4.]])"
      ]
     },
     "execution_count": 57,
     "metadata": {},
     "output_type": "execute_result"
    }
   ],
   "source": [
    "def make_line_matr(var, arr):\n",
    "  arr=[]\n",
    "  for i in range(len(eq_syst)): #Итерация по индексам, по элементам не работало - выводился первый коэфф, но несколько раз\n",
    "    if eq_syst[i] == var:\n",
    "      if eq_syst[i-1] ==' ':\n",
    "        arr.append (1)\n",
    "      else:\n",
    "        arr.append (float( eq_syst[i-1] ))\n",
    "  return arr\n",
    "\n",
    "aa1=np.array([make_line_matr('x',a1)])\n",
    "aa2=np.array([make_line_matr('y',a2)])\n",
    "aa3=np.array([make_line_matr('z',a3)])\n",
    "# В принципе, при большом числе переменных можно загнать создание строк коэффициентов в функцию, пробегая по списку с перменными\n",
    "\n",
    "matr_coeff=np.concatenate((aa1,aa2,aa3))\n",
    "\n",
    "matr_coeff\n"
   ]
  },
  {
   "cell_type": "code",
   "execution_count": 54,
   "metadata": {},
   "outputs": [
    {
     "name": "stdout",
     "output_type": "stream",
     "text": [
      "[-0.33333333  5.33333333 -0.66666667]\n",
      "True\n"
     ]
    }
   ],
   "source": [
    "from numpy import linalg\n",
    "\n",
    "print(linalg.solve(matr_coeff,b))\n",
    "\n",
    "#Проверка решения через произведение\n",
    "\n",
    "print(\n",
    "np.allclose(\n",
    "np.dot(matr_coeff,linalg.solve(matr_coeff,b)),b\n",
    "))"
   ]
  },
  {
   "cell_type": "markdown",
   "metadata": {},
   "source": [
    "Получается, у системы не одно решение."
   ]
  },
  {
   "cell_type": "code",
   "execution_count": null,
   "metadata": {
    "collapsed": true,
    "scrolled": false
   },
   "outputs": [],
   "source": [
    "Не смог автоматизировать создание матрицы коэффициентов, то есть, сделать функцию для сборки массива коэффициентов \n",
    "в общую матрицу произвольного числа уравнений в системе. В варианте: \n",
    "matr=[]\n",
    "\n",
    "for i in range (1,4):\n",
    "  matr.append(\"aa{0}\".format(i))\n",
    "\n",
    "создается список  ['aa1', 'aa2', 'aa3'] Но как можно строковое значение 'aa1' конвертировать в переменную aa1 ?!"
   ]
  },
  {
   "cell_type": "code",
   "execution_count": 56,
   "metadata": {},
   "outputs": [
    {
     "name": "stdout",
     "output_type": "stream",
     "text": [
      "['aa1', 'aa2', 'aa3']\n"
     ]
    }
   ],
   "source": [
    "matr=[]\n",
    "\n",
    "for i in range (1,4):\n",
    "  matr.append(\"aa{0}\".format(i))\n",
    "\n",
    "print(matr)"
   ]
  }
 ],
 "metadata": {
  "kernelspec": {
   "display_name": "Python 3",
   "language": "python",
   "name": "python3"
  },
  "language_info": {
   "codemirror_mode": {
    "name": "ipython",
    "version": 3
   },
   "file_extension": ".py",
   "mimetype": "text/x-python",
   "name": "python",
   "nbconvert_exporter": "python",
   "pygments_lexer": "ipython3",
   "version": "3.7.3"
  }
 },
 "nbformat": 4,
 "nbformat_minor": 2
}
