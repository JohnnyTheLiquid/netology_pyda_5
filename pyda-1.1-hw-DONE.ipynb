{
 "cells": [
  {
   "cell_type": "markdown",
   "metadata": {},
   "source": [
    "**Задание 1**. Даны 2 строки: *long_phrase* и *short_phrase*. \n",
    "Напишите код, который проверяет действительно ли длинная фраза *long_phrase* длиннее короткой *short_phrase*. И выводит *True* или *False* в зависимости от результата сравнения."
   ]
  },
  {
   "cell_type": "code",
   "execution_count": 1,
   "metadata": {},
   "outputs": [],
   "source": [
    "long_phrase = 'Насколько проще было бы писать программы, если бы не заказчики'\n",
    "short_phrase = '640Кб должно хватить для любых задач. Билл Гейтс (по легенде)'"
   ]
  },
  {
   "cell_type": "code",
   "execution_count": 6,
   "metadata": {},
   "outputs": [
    {
     "name": "stdout",
     "output_type": "stream",
     "text": [
      "True\n"
     ]
    }
   ],
   "source": [
    "long_phrase = 'Насколько проще было бы писать программы, если бы не заказчики'\n",
    "short_phrase = '640Кб должно хватить для любых задач. Билл Гейтс (по легенде)'\n",
    "print(len(long_phrase)>len(short_phrase))"
   ]
  },
  {
   "cell_type": "markdown",
   "metadata": {},
   "source": [
    "**Задание 2**. Дано значение объема файла в байтах. Напишите перевод этого значения в мегабайты в формате: \"*Объем файла равен 213.68Mb*\""
   ]
  },
  {
   "cell_type": "code",
   "execution_count": 1,
   "metadata": {},
   "outputs": [
    {
     "name": "stdout",
     "output_type": "stream",
     "text": [
      "Введите объем в байтах 9000\n",
      "Объем файла равен 8.79\n"
     ]
    }
   ],
   "source": [
    "vol_bytes=float(input(\"Введите объем в байтах \"))\n",
    "vol_m_bytes=vol_bytes/1024\n",
    "print(\"Объем файла равен \" + str(round(vol_m_bytes,2)))"
   ]
  },
  {
   "cell_type": "markdown",
   "metadata": {},
   "source": [
    "**Задание 3**. Разработать приложение для определения знака зодиака по дате рождения. Пример:\n",
    "\n",
    "Введите месяц: март\n",
    "\n",
    "Введите число: 6\n",
    "\n",
    "Вывод:\n",
    "Рыбы"
   ]
  },
  {
   "cell_type": "code",
   "execution_count": 9,
   "metadata": {},
   "outputs": [
    {
     "name": "stdout",
     "output_type": "stream",
     "text": [
      "Введите месяц рождения, например, январь: \n",
      " январь\n",
      "Введите число дня рождения, например, 6: \n",
      "31\n",
      "Ваш знак зодиака: Водолей\n"
     ]
    }
   ],
   "source": [
    "mmonth=str(input(\"Введите месяц рождения, например, январь: \\n \"))\n",
    "dday=int(input(\"Введите число дня рождения, например, 6: \\n\"))\n",
    "\n",
    "if (mmonth==\"декабрь\" and  21<dday<=31) or (mmonth==\"январь\" and  0<dday<=21):\n",
    "  zodiac=\"Козерог\"\n",
    "elif (mmonth==\"январь\" and 21<dday<=31) or (mmonth==\"февраль\" and  0<dday<=21):\n",
    "  zodiac=\"Водолей\"\n",
    "elif (mmonth==\"февраль\" and  21<dday<=29) or (mmonth==\"март\" and  0<dday<=21):\n",
    "  zodiac=\"Рыбы\"\n",
    "elif (mmonth==\"март\" and  21<dday<=31) or (mmonth==\"апрель\" and  0<dday<=21):\n",
    "  zodiac=\"Овен\"\n",
    "elif (mmonth==\"апрель\" and  21<dday<=30) or (mmonth==\"май\" and  0<dday<=21):\n",
    "  zodiac=\"Телец\"\n",
    "elif (mmonth==\"май\" and  21<dday<=31) or (mmonth==\"июнь\" and  0<dday<=21):\n",
    "  zodiac=\"Близнецы\"\n",
    "elif (mmonth==\"июнь\" and  21<dday<=30) or (mmonth==\"июль\" and  0<dday<=21):\n",
    "  zodiac=\"Рак\"\n",
    "elif (mmonth==\"июль\" and  21<dday<=31) or (mmonth==\"август\" and  0<dday<=21):\n",
    "  zodiac=\"Лев\"\n",
    "elif (mmonth==\"август\" and  21<dday<=31) or (mmonth==\"сентябрь\" and 0<dday<=21):\n",
    "  zodiac=\"Дева\"\n",
    "elif (mmonth==\"сентябрь\" and  21<dday<=30) or (mmonth==\"октябрь\" and  0<dday<=21):\n",
    "  zodiac=\"Весы\"\n",
    "elif (mmonth==\"октябрь\" and  21<dday<=31) or (mmonth==\"ноябрь\" and  0<dday<=21):\n",
    "  zodiac=\"Скорпион\"\n",
    "elif (mmonth==\"ноябрь\" and  21<dday<=30) or (mmonth==\"декабрь\" and  0<dday<=21):\n",
    "  zodiac=\"Стрелец\"\n",
    "else:\n",
    "    zodiac=\"Некорректно введены данные\"\n",
    "\n",
    "print(\"Ваш знак зодиака: \"+ zodiac)"
   ]
  },
  {
   "cell_type": "markdown",
   "metadata": {},
   "source": [
    "**Задание 4**. Нужно разработать приложение для финансового планирования.\n",
    "Приложение учитывает сколько уходит на ипотеку, \"на жизнь\" и сколько нужно отложить на пенсию.\n",
    "Пользователь вводит:\n",
    "- заработанную плату в месяц.\n",
    "- сколько процентов от ЗП уходит на ипотеку.\n",
    "- сколько процентов от ЗП уходит \"на жизнь\".\n",
    "- сколько раз приходит премия в год.\n",
    "\n",
    "Остальная часть заработанной платы откладывается на пенсию.\n",
    "\n",
    "Также пользователю приходит премия в размере зарплаты, от которой половина уходит на отпуск, а вторая половина откладывается.\n",
    "\n",
    "Программа должна учитывать сколько премий было в год.\n",
    "\n",
    "Нужно вывести сколько денег тратит пользователь на ипотеку и сколько он накопит за год.\n",
    "\n",
    "Пример:\n",
    "\n",
    "Введите заработанную плату в месяц: 100000\n",
    "\n",
    "Введите сколько процентов уходит на ипотеку: 30\n",
    "\n",
    "Введите сколько процентов уходит на жизнь: 50\n",
    "\n",
    "Введите количество премий за год: 2\n",
    "\n",
    "Вывод:\n",
    "На ипотеку было потрачено: 360000 рублей\n",
    "Было накоплено: 340000 рублей"
   ]
  },
  {
   "cell_type": "code",
   "execution_count": 4,
   "metadata": {},
   "outputs": [
    {
     "name": "stdout",
     "output_type": "stream",
     "text": [
      "Введите вашу зарплату в месяц 100000\n",
      "Сколько процентов от ЗП уходит на ипотеку? 30\n",
      "сколько процентов от ЗП уходит 'на жизнь'? 50\n",
      "Сколько раз приходит премия в год? 2\n",
      "На ипотеку было потрачено: 360000.0 Было накоплено: 340000.0\n"
     ]
    }
   ],
   "source": [
    "salary=float(input(\"Введите вашу зарплату в месяц \"))\n",
    "ipoteka=0.01 * float(input(\"Сколько процентов от ЗП уходит на ипотеку? \"))\n",
    "for_life=0.01 * float(input(\"сколько процентов от ЗП уходит 'на жизнь'? \"))\n",
    "bonus=float(input(\"Сколько раз приходит премия в год? \"))\n",
    "\n",
    "ipoteka_annual=round(((12 * salary) * ipoteka),2)\n",
    "\n",
    "savings=round((((12 * salary) + 0.5*(bonus * salary)) - \\\n",
    "    (ipoteka_annual + for_life*12*salary)),2)\n",
    "\n",
    "print( \"На ипотеку было потрачено: \"+ str(ipoteka_annual) + \\\n",
    "    \" Было накоплено: \"+ str(savings) )"
   ]
  }
 ],
 "metadata": {
  "kernelspec": {
   "display_name": "Python 3",
   "language": "python",
   "name": "python3"
  },
  "language_info": {
   "codemirror_mode": {
    "name": "ipython",
    "version": 3
   },
   "file_extension": ".py",
   "mimetype": "text/x-python",
   "name": "python",
   "nbconvert_exporter": "python",
   "pygments_lexer": "ipython3",
   "version": "3.7.3"
  }
 },
 "nbformat": 4,
 "nbformat_minor": 2
}
